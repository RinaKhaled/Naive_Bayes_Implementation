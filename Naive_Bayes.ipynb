{
  "nbformat": 4,
  "nbformat_minor": 0,
  "metadata": {
    "colab": {
      "provenance": []
    },
    "kernelspec": {
      "name": "python3",
      "display_name": "Python 3"
    },
    "language_info": {
      "name": "python"
    }
  },
  "cells": [
    {
      "cell_type": "markdown",
      "source": [
        "##Imports"
      ],
      "metadata": {
        "id": "bAd9UcpR8XXC"
      }
    },
    {
      "cell_type": "code",
      "source": [
        "import numpy as np\n",
        "import math as m"
      ],
      "metadata": {
        "id": "4Tl9qZH_gYWs"
      },
      "execution_count": 81,
      "outputs": []
    },
    {
      "cell_type": "markdown",
      "source": [
        "##Iris Dataset"
      ],
      "metadata": {
        "id": "iqOBDFeH8NWw"
      }
    },
    {
      "cell_type": "code",
      "source": [
        "from sklearn.datasets import load_iris\n",
        "\n",
        "iris = load_iris()\n",
        "data=iris.data\n",
        "labels=iris.target"
      ],
      "metadata": {
        "id": "0sb4Mb1Kx9ma"
      },
      "execution_count": 82,
      "outputs": []
    },
    {
      "cell_type": "code",
      "source": [
        "from sklearn.model_selection import train_test_split\n",
        "\n",
        "X_train, X_test, y_train, y_test = train_test_split(data, labels, test_size=0.3, random_state=0)"
      ],
      "metadata": {
        "id": "Q5c6Zftn3rrw"
      },
      "execution_count": 83,
      "outputs": []
    },
    {
      "cell_type": "code",
      "source": [
        "np.array(data).shape"
      ],
      "metadata": {
        "colab": {
          "base_uri": "https://localhost:8080/"
        },
        "id": "FY2z4HLVyhnj",
        "outputId": "0601e170-e7ea-4906-c322-f8bdeafc16da"
      },
      "execution_count": 84,
      "outputs": [
        {
          "output_type": "execute_result",
          "data": {
            "text/plain": [
              "(150, 4)"
            ]
          },
          "metadata": {},
          "execution_count": 84
        }
      ]
    },
    {
      "cell_type": "markdown",
      "source": [
        "##Mean"
      ],
      "metadata": {
        "id": "xa5nEKna8G8J"
      }
    },
    {
      "cell_type": "code",
      "execution_count": 85,
      "metadata": {
        "id": "hu-Tacr9dX88"
      },
      "outputs": [],
      "source": [
        "def getMean(data):\n",
        "  allMean=np.array([])\n",
        "  for j in range(data.shape[1]):  #features\n",
        "    featureMean=0\n",
        "    for i in range(data.shape[0]):  #data\n",
        "      featureMean+=data[i][j]\n",
        "    featureMean/=data.shape[0]\n",
        "    allMean=np.append(allMean,featureMean)\n",
        "  return allMean"
      ]
    },
    {
      "cell_type": "markdown",
      "source": [
        "##Variance"
      ],
      "metadata": {
        "id": "0w_Sz6Zx8KNe"
      }
    },
    {
      "cell_type": "code",
      "source": [
        "def getVariance(data):\n",
        "  mean=getMean(data)\n",
        "  allVar=np.array([])\n",
        "  for j in range(data.shape[1]):  #features\n",
        "    featureVar=0\n",
        "    for i in range(data.shape[0]):  #data\n",
        "      featureVar+=(data[i][j]-mean[j])**2\n",
        "    featureVar/=data.shape[0]\n",
        "    allVar=np.append(allVar,featureVar)\n",
        "  return allVar"
      ],
      "metadata": {
        "id": "K-qAXzTVgyyu"
      },
      "execution_count": 86,
      "outputs": []
    },
    {
      "cell_type": "code",
      "source": [
        "# x=np.array([[20,-25,37,9,63,567,123,5],[20,-25.2,37,9,-63,567,123.6,5]])\n",
        "# print(x.shape)\n",
        "# print(getVariance(x))\n",
        "# print(np.var(x,axis=0))"
      ],
      "metadata": {
        "id": "ikunA7BzjY4A"
      },
      "execution_count": 87,
      "outputs": []
    },
    {
      "cell_type": "markdown",
      "source": [
        "##From Scratch"
      ],
      "metadata": {
        "id": "mhrQUnHlFin6"
      }
    },
    {
      "cell_type": "code",
      "source": [
        "def featureConditProb(feature,mean,var):\n",
        "  part1=1/m.sqrt(2*m.pi*var)\n",
        "  exponent=-1*((feature-mean)**2)/(2*var)\n",
        "  part2=m.exp(exponent)\n",
        "  return part1*part2"
      ],
      "metadata": {
        "id": "raWn6pM9pLlP"
      },
      "execution_count": 88,
      "outputs": []
    },
    {
      "cell_type": "code",
      "source": [
        "def ConditProb(features,mean,var,probClass):\n",
        "  all=1\n",
        "  for i in range(len(features)):\n",
        "    all*=featureConditProb(features[i],mean[i],var[i])\n",
        "  all*=probClass\n",
        "  return all"
      ],
      "metadata": {
        "id": "45hzwqhJtZON"
      },
      "execution_count": 89,
      "outputs": []
    },
    {
      "cell_type": "code",
      "source": [
        "def allClassesMeanVar(data,labels):\n",
        "  allMean=[]\n",
        "  allVar=[]\n",
        "  probX=[]\n",
        "\n",
        "  for i in range(3):  #classes\n",
        "    x=data[labels==i]\n",
        "    probX.append(x.shape[0]/data.shape[0])\n",
        "    allMean.append(getMean(x))\n",
        "    allVar.append(getVariance(x))\n",
        "\n",
        "  allMean=np.array(allMean)\n",
        "  allVar=np.array(allVar)\n",
        "  probX=np.array(probX)\n",
        "  return allMean,allVar,probX"
      ],
      "metadata": {
        "id": "l0BiV11L-_FW"
      },
      "execution_count": 90,
      "outputs": []
    },
    {
      "cell_type": "code",
      "source": [
        "# allClassesMeanVar(X_train,y_train)"
      ],
      "metadata": {
        "id": "aMbwD0vzADWS"
      },
      "execution_count": 91,
      "outputs": []
    },
    {
      "cell_type": "code",
      "source": [
        "def getClass(features,allMean,allVar,allProbX):\n",
        "  answer=-1\n",
        "  max=-1\n",
        "  for i in range(3):  #classes\n",
        "    conditional=ConditProb(features,allMean[i],allVar[i],allProbX[i])\n",
        "    if(conditional>max):\n",
        "      max=conditional\n",
        "      answer=i\n",
        "  return  answer"
      ],
      "metadata": {
        "id": "7LcBDmKyB3_i"
      },
      "execution_count": 92,
      "outputs": []
    },
    {
      "cell_type": "code",
      "source": [
        "def test(xtrain,ytrain,xtest,ytest):\n",
        "  acc=0\n",
        "  allMean,allVar,allProbX=allClassesMeanVar(xtrain,ytrain)\n",
        "  for i in  range(len(ytest)):\n",
        "    acc+=(ytest[i]==getClass(xtest[i],allMean,allVar,allProbX))\n",
        "  acc/=len(ytest)\n",
        "  return  acc"
      ],
      "metadata": {
        "id": "1cjaGBXp4VTA"
      },
      "execution_count": 94,
      "outputs": []
    },
    {
      "cell_type": "code",
      "source": [
        "test(X_train, y_train, X_test, y_test)"
      ],
      "metadata": {
        "colab": {
          "base_uri": "https://localhost:8080/"
        },
        "id": "h8xFob3e59Az",
        "outputId": "04b349cb-cd26-48b8-e17b-82db653d5f95"
      },
      "execution_count": 95,
      "outputs": [
        {
          "output_type": "execute_result",
          "data": {
            "text/plain": [
              "1.0"
            ]
          },
          "metadata": {},
          "execution_count": 95
        }
      ]
    },
    {
      "cell_type": "markdown",
      "source": [
        "##Built-In"
      ],
      "metadata": {
        "id": "QVMZE2c-FdFb"
      }
    },
    {
      "cell_type": "code",
      "source": [
        "from sklearn.naive_bayes import GaussianNB\n",
        "\n",
        "# Create a Gaussian Naive Bayes classifier\n",
        "nb_classifier = GaussianNB()\n",
        "\n",
        "# Train the classifier\n",
        "nb_classifier.fit(X_train, y_train)\n",
        "\n",
        "# Evaluate the classifier\n",
        "accuracy = nb_classifier.score(X_test, y_test)\n",
        "print(f\"Accuracy: {accuracy:.2f}\")"
      ],
      "metadata": {
        "colab": {
          "base_uri": "https://localhost:8080/"
        },
        "id": "PJTTm6p0-UcF",
        "outputId": "5291f73c-d9d7-4d6a-da8d-ddae8060d11d"
      },
      "execution_count": 97,
      "outputs": [
        {
          "output_type": "stream",
          "name": "stdout",
          "text": [
            "Accuracy: 1.00\n"
          ]
        }
      ]
    }
  ]
}